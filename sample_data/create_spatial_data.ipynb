{
 "cells": [
  {
   "cell_type": "markdown",
   "id": "6f4d1abf",
   "metadata": {},
   "source": [
    "# Pygcdl Sample Data Creation\n",
    "\n",
    "In this notebook, we create a set of spatial geometries for pygcdl testing purposes. These geometries are based on california county boundaries. For each polygon/multipolygon geometry, we also calculate the union / convex hull ratio, as this value is calculated by the pygcdl package when determining how to upload a geometry object."
   ]
  },
  {
   "cell_type": "markdown",
   "id": "407dfd08",
   "metadata": {},
   "source": [
    "Description of geometry files created in this notebook: </br>\n",
    "<i>(Note: zip files contain shapefile files)</i>\n",
    "- <b>yolo_county.zip:</b> Zipped shapefile of Yolo county boundaries\n",
    "- <b>yolo_county.shp:</b> Non-zipped shapefile of Yolo county boundaries\n",
    "- <b>loney_polygon/yolo_county.shp:</b> Same as above, but without associated files. Only .shp file is present in the lonely_polygon directory. This is to test that pygcdl will generate an error if associated files are not found.\n",
    "- <b>yolo_county.geojson:</b> Geojson version of Yolo county boundaries\n",
    "- <b>yolo_sac_counties.shp:</b> Non-zipped shapefile of Yolo and Sacramento county boundaries, adjacent polygons\n",
    "- <b>ventura_county.zip: </b> Zipped shapefile of Ventura county, multipolygon data because of islands\n",
    "- <b>county_centroids.zip:</b> Zipped shapefile of all CA county centroids\n",
    "- <b>county_centroids.csv:</b> CSV version of county_centroids.shp"
   ]
  },
  {
   "cell_type": "markdown",
   "id": "8f4062d0",
   "metadata": {},
   "source": [
    "# Part 0: Prepare CA Counties Dataset"
   ]
  },
  {
   "cell_type": "code",
   "execution_count": null,
   "id": "7a6d1eef-46c4-41bc-8ce3-a72184e2f25c",
   "metadata": {
    "scrolled": true
   },
   "outputs": [],
   "source": [
    "import geopandas as gpd\n",
    "from pathlib import Path\n",
    "import zipfile\n",
    "import matplotlib.pyplot as plt\n",
    "import pandas as pd\n",
    "import shapely\n",
    "from shapely.geometry import MultiPolygon\n",
    "import urllib.request\n",
    "pd.options.mode.chained_assignment = None  # default='warn'\n",
    "import shutil"
   ]
  },
  {
   "cell_type": "code",
   "execution_count": null,
   "id": "beb530dd",
   "metadata": {},
   "outputs": [],
   "source": [
    "# Download and unzip CA county boundaries data\n",
    "download_dir = Path(\"ca_county_data\")\n",
    "download_dir.mkdir(exist_ok=True)\n",
    "download_file = Path(\"ca_county_data/ca_counties.zip\")\n",
    "urllib.request.urlretrieve(\"https://data.ca.gov/dataset/e212e397-1277-4df3-8c22-40721b095f33/resource/b0007416-a325-4777-9295-368ea6b710e6/download/ca_counties.zip\", download_file)\n",
    "with zipfile.ZipFile(download_file, 'r') as z:\n",
    "    z.extractall(path=download_dir)\n",
    "counties_shp_path = Path(\"ca_county_data/ca_counties.shp\")"
   ]
  },
  {
   "cell_type": "code",
   "execution_count": null,
   "id": "23873c9f",
   "metadata": {},
   "outputs": [],
   "source": [
    "# Define output directory to store sample geometries\n",
    "output_dir = Path.cwd() / \"sample_geoms\"\n",
    "output_dir.mkdir(exist_ok=True)"
   ]
  },
  {
   "cell_type": "code",
   "execution_count": null,
   "id": "e6d004c8-daec-4d89-a73a-6a2c46373556",
   "metadata": {},
   "outputs": [],
   "source": [
    "# Define paths and read in county data\n",
    "counties = gpd.read_file(counties_shp_path)\n",
    "counties.head()"
   ]
  },
  {
   "cell_type": "code",
   "execution_count": null,
   "id": "517904bd",
   "metadata": {},
   "outputs": [],
   "source": [
    "# Remove all unnecessary columns\n",
    "counties = counties[[\"NAME\", \"geometry\"]]\n",
    "counties.head()"
   ]
  },
  {
   "cell_type": "code",
   "execution_count": null,
   "id": "38460255-bf9f-43c9-ac6e-353ccc813812",
   "metadata": {
    "scrolled": true
   },
   "outputs": [],
   "source": [
    "# Visualize all counties with county names\n",
    "counties[\"centroid\"] = counties[\"geometry\"].centroid\n",
    "fig, ax = plt.subplots(figsize=(20, 16))\n",
    "counties.boundary.plot(ax=ax)\n",
    "for idx, row in counties.iterrows():\n",
    "    plt.annotate(text=row[\"NAME\"], xy=(row[\"centroid\"].x, row[\"centroid\"].y), horizontalalignment='center', color='blue')\n",
    "counties = counties.drop([\"centroid\"], axis=1) # remove row when done using it"
   ]
  },
  {
   "cell_type": "code",
   "execution_count": null,
   "id": "ad126453",
   "metadata": {},
   "outputs": [],
   "source": [
    "# We see here that our CRS is projected and in units of meters\n",
    "counties.crs"
   ]
  },
  {
   "cell_type": "markdown",
   "id": "fc22a990",
   "metadata": {},
   "source": [
    "As our last preparatory step, we define a function that will calculate the polygon union / convex hull ratio."
   ]
  },
  {
   "cell_type": "code",
   "execution_count": null,
   "id": "d39fa667-40bd-4346-8a36-7064eb797c9d",
   "metadata": {},
   "outputs": [],
   "source": [
    "def union_convex_hull_ratio(gdf = gpd.GeoDataFrame):\n",
    "    union_polygon = gdf.unary_union\n",
    "    union_area = union_polygon.area\n",
    "    convex_hull_area = union_polygon.convex_hull.area\n",
    "    ratio = round(union_area / convex_hull_area, ndigits=3)\n",
    "    return ratio"
   ]
  },
  {
   "cell_type": "markdown",
   "id": "1234bcf0",
   "metadata": {},
   "source": [
    "# Part 1: Creating county polygon subsets"
   ]
  },
  {
   "cell_type": "code",
   "execution_count": null,
   "id": "9dc2c4fb-5469-4b26-b033-82de58387a86",
   "metadata": {},
   "outputs": [],
   "source": [
    "# Create geodataframe with Yolo county\n",
    "yolo_county = counties[counties[\"NAME\"] == \"Yolo\"]\n",
    "yolo_county.boundary.plot()\n",
    "print(\"Union / Convex Hull ratio: \", union_convex_hull_ratio(yolo_county))"
   ]
  },
  {
   "cell_type": "code",
   "execution_count": null,
   "id": "1945b48e-1bc1-4fc8-b545-0849f1dd860f",
   "metadata": {},
   "outputs": [],
   "source": [
    "# Store Yolo county to a zipped shapefile, single_polygon.zip\n",
    "\n",
    "# Create folder to store shapefile files in\n",
    "zip_dir = Path(output_dir/\"yolo_county\")\n",
    "zip_dir.mkdir(exist_ok=True)\n",
    "\n",
    "# Put shapefiles in folder\n",
    "yolo_county.to_file(zip_dir/\"yolo_county.shp\")\n",
    "\n",
    "# Zip folder\n",
    "with zipfile.ZipFile(zip_dir.with_suffix(\".zip\"), 'w') as z:\n",
    "    for filepath in zip_dir.glob(\"*.*\"):\n",
    "        z.write(filepath, arcname=filepath.name)\n",
    "\n",
    "# Delete now unnecessary folder\n",
    "shutil.rmtree(zip_dir)\n",
    "\n",
    "# List files in newly created archive\n",
    "with zipfile.ZipFile(zip_dir.with_suffix(\".zip\"), \"r\") as z:\n",
    "    z.printdir()"
   ]
  },
  {
   "cell_type": "code",
   "execution_count": null,
   "id": "6c6db6df",
   "metadata": {},
   "outputs": [],
   "source": [
    "# Store Yolo county data to a shapefile, not in a .zip file\n",
    "yolo_county.to_file(output_dir/\"yolo_county.shp\")"
   ]
  },
  {
   "cell_type": "code",
   "execution_count": null,
   "id": "b7694d8f",
   "metadata": {},
   "outputs": [],
   "source": [
    "# Store Yolo county data to a geojson file\n",
    "yolo_county.to_file(output_dir / \"yolo_county.geojson\", driver=\"GeoJSON\")"
   ]
  },
  {
   "cell_type": "code",
   "execution_count": null,
   "id": "7d7cda92",
   "metadata": {},
   "outputs": [],
   "source": [
    "# Create a folder for just a .shp file and no associated files\n",
    "# Copy yolo_county.shp over to \"lonely_shp\" directory\n",
    "# This is to test that pygcdl throws an error if associated files\n",
    "# are not found in same directory as .shp file\n",
    "lonely_shp_dir = Path(output_dir/\"lonely_shp\")\n",
    "lonely_shp_dir.mkdir(exist_ok=True)\n",
    "lonely_polygon_path = Path(lonely_shp_dir / \"yolo_county.shp\")\n",
    "shutil.copyfile(Path(output_dir/\"yolo_county.shp\"), lonely_polygon_path)"
   ]
  },
  {
   "cell_type": "code",
   "execution_count": null,
   "id": "fecf09e9-3478-42e2-a789-db67a6593bf0",
   "metadata": {},
   "outputs": [],
   "source": [
    "# Create geodataframe of two adjacent counties, Yolo and Sacramento\n",
    "two_counties = [\"Yolo\", \"Sacramento\"]\n",
    "yolo_sac_counties = counties[counties[\"NAME\"].isin(two_counties)]\n",
    "yolo_sac_counties.boundary.plot()\n",
    "print(\"Union / Convex Hull ratio: \", union_convex_hull_ratio(yolo_sac_counties))"
   ]
  },
  {
   "cell_type": "code",
   "execution_count": null,
   "id": "30118d1e",
   "metadata": {},
   "outputs": [],
   "source": [
    "# Save Yolo and Sac county data to a zipped shapefile, yolo_sac.zip\n",
    "\n",
    "# Create folder to store shapefile files in\n",
    "zip_dir = Path(output_dir/\"yolo_sac_counties\")\n",
    "zip_dir.mkdir(exist_ok=True)\n",
    "\n",
    "# Put shapefiles in folder\n",
    "yolo_sac_counties.to_file(zip_dir/\"yolo_sac_counties.shp\")\n",
    "\n",
    "# Zip folder\n",
    "with zipfile.ZipFile(zip_dir.with_suffix(\".zip\"), 'w') as z:\n",
    "    for filepath in zip_dir.glob(\"*.*\"):\n",
    "        z.write(filepath, arcname=filepath.name)\n",
    "\n",
    "# Delete now unnecessary folder\n",
    "shutil.rmtree(zip_dir)\n",
    "\n",
    "# List files in newly created archive\n",
    "with zipfile.ZipFile(zip_dir.with_suffix(\".zip\"), \"r\") as z:\n",
    "    z.printdir()"
   ]
  },
  {
   "cell_type": "code",
   "execution_count": null,
   "id": "11a081e1",
   "metadata": {},
   "outputs": [],
   "source": [
    "# Create a geodataframe of one county with islands\n",
    "ventura_county = counties[counties[\"NAME\"] == \"Ventura\"]\n",
    "ventura_county.boundary.plot()\n",
    "print(\"Union / Convex Hull ratio: \", union_convex_hull_ratio(ventura_county))"
   ]
  },
  {
   "cell_type": "code",
   "execution_count": null,
   "id": "286b42cf",
   "metadata": {},
   "outputs": [],
   "source": [
    "# Save Ventura county data to a zipped shapefile, yolo_sac.zip\n",
    "\n",
    "# Create folder to store shapefile files in\n",
    "zip_dir = Path(output_dir/\"ventura_county\")\n",
    "zip_dir.mkdir(exist_ok=True)\n",
    "\n",
    "# Put shapefiles in folder\n",
    "ventura_county.to_file(zip_dir/\"ventura_county.shp\")\n",
    "\n",
    "# Zip folder\n",
    "with zipfile.ZipFile(zip_dir.with_suffix(\".zip\"), 'w') as z:\n",
    "    for filepath in zip_dir.glob(\"*.*\"):\n",
    "        z.write(filepath, arcname=filepath.name)\n",
    "\n",
    "# Delete now unnecessary folder\n",
    "shutil.rmtree(zip_dir)\n",
    "\n",
    "# List files in newly created archive\n",
    "with zipfile.ZipFile(zip_dir.with_suffix(\".zip\"), \"r\") as z:\n",
    "    z.printdir()"
   ]
  },
  {
   "cell_type": "markdown",
   "id": "4e17c690",
   "metadata": {},
   "source": [
    "# Part 2: Creating Point Data"
   ]
  },
  {
   "cell_type": "markdown",
   "id": "4d554683",
   "metadata": {},
   "source": [
    "##### Make shapefile of points"
   ]
  },
  {
   "cell_type": "code",
   "execution_count": null,
   "id": "d4d48140",
   "metadata": {},
   "outputs": [],
   "source": [
    "# Create a geodataframe of the centroids of each county\n",
    "counties[\"centroid\"] = counties[\"geometry\"].centroid\n",
    "county_centroids = counties.set_geometry(\"centroid\")\n",
    "county_centroids = county_centroids.drop(columns=\"geometry\")\n",
    "county_centroids.plot()"
   ]
  },
  {
   "cell_type": "code",
   "execution_count": null,
   "id": "b740c812",
   "metadata": {},
   "outputs": [],
   "source": [
    "# Save points data as a zipped shapefile\n",
    "\n",
    "# Create folder to store shapefile files in\n",
    "zip_dir = Path(output_dir/\"county_centroids\")\n",
    "zip_dir.mkdir(exist_ok=True)\n",
    "\n",
    "# Put shapefiles in folder\n",
    "county_centroids.to_file(zip_dir/\"county_centroids.shp\")\n",
    "\n",
    "# Zip folder\n",
    "with zipfile.ZipFile(zip_dir.with_suffix(\".zip\"), 'w') as z:\n",
    "    for filepath in zip_dir.glob(\"*.*\"):\n",
    "        z.write(filepath, arcname=filepath.name)\n",
    "\n",
    "# Delete now unnecessary folder\n",
    "shutil.rmtree(zip_dir)\n",
    "\n",
    "# List files in newly created archive\n",
    "with zipfile.ZipFile(zip_dir.with_suffix(\".zip\"), \"r\") as z:\n",
    "    z.printdir()"
   ]
  },
  {
   "cell_type": "markdown",
   "id": "01b5aebe",
   "metadata": {},
   "source": [
    "Next, we will store our point data into a csv file. CSV data doesn't contain geographic metadata, so when we request data downloads, we will need to specify our CRS so GCDL knows how to interpret the values in the CSV file. Previously, we saw that our counties data is in EPSG:3857. We will take note of this, and use this CRS when we request point data downloads using this CSV geometry data."
   ]
  },
  {
   "cell_type": "code",
   "execution_count": null,
   "id": "c0749355",
   "metadata": {},
   "outputs": [],
   "source": [
    "# Extract x and y values of points into lists\n",
    "x_values = [p.x for p in county_centroids[\"centroid\"]]\n",
    "y_values = [p.y for p in county_centroids[\"centroid\"]]"
   ]
  },
  {
   "cell_type": "code",
   "execution_count": null,
   "id": "a699bfde",
   "metadata": {},
   "outputs": [],
   "source": [
    "# Create pandas dataframe from x and y value lists\n",
    "point_data = pd.DataFrame({\"x\":x_values, \"y\":y_values})\n",
    "point_data.head()"
   ]
  },
  {
   "cell_type": "code",
   "execution_count": null,
   "id": "bfe64061",
   "metadata": {},
   "outputs": [],
   "source": [
    "# Save x and y coordinates of point data as csv\n",
    "point_data.to_csv(output_dir / \"county_centroids.csv\")"
   ]
  }
 ],
 "metadata": {
  "kernelspec": {
   "display_name": "Python 3 (ipykernel)",
   "language": "python",
   "name": "python3"
  },
  "language_info": {
   "codemirror_mode": {
    "name": "ipython",
    "version": 3
   },
   "file_extension": ".py",
   "mimetype": "text/x-python",
   "name": "python",
   "nbconvert_exporter": "python",
   "pygments_lexer": "ipython3",
   "version": "3.10.9"
  }
 },
 "nbformat": 4,
 "nbformat_minor": 5
}
